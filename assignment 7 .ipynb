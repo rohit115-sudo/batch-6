{
 "cells": [
  {
   "cell_type": "code",
   "execution_count": 13,
   "metadata": {},
   "outputs": [
    {
     "name": "stdout",
     "output_type": "stream",
     "text": [
      "[3, 7, 11, 9]\n"
     ]
    }
   ],
   "source": [
    "#Q2\n",
    "\n",
    "l1=[(1,2), (3,4), (5,6),(4,5)]\n",
    " res = [sum(x) for x in l1]\n",
    "print(res)\n",
    "\n"
   ]
  },
  {
   "cell_type": "code",
   "execution_count": 29,
   "metadata": {},
   "outputs": [
    {
     "name": "stdout",
     "output_type": "stream",
     "text": [
      "(((1, 2, 3), 'a'), ([1, 2], 'hit'), ((3, 4), 'less'))\n"
     ]
    }
   ],
   "source": [
    "\n",
    "#Q3\n",
    "    \n",
    "\n",
    "list1 = [(1, 2, 3), [1,2],(3,4)]\n",
    "list2 = ['a', 'hit', 'less'] \n",
    "def merge(list1, list2): \n",
    "      \n",
    "    merged_list = tuple(zip(list1, list2))  \n",
    "    return merged_list \n",
    "print(merge(list1, list2))\n"
   ]
  },
  {
   "cell_type": "code",
   "execution_count": 32,
   "metadata": {},
   "outputs": [
    {
     "name": "stdout",
     "output_type": "stream",
     "text": [
      "Original dictionary is : \n",
      "{'FTP': 21, 'SSH': 22, 'telnet': 23, 'http': 80}\n",
      "\n"
     ]
    }
   ],
   "source": [
    "#Q1\n",
    "\n",
    "old_dict =  {21: \"FTP\", 22:\"SSH\", 23: \"telnet\", 80: \"http\"}\n",
    "  \n",
    "new_dict = dict([(value, key) for key, value in old_dict.items()])  \n",
    "print (\"Original dictionary is : \") \n",
    "print(new_dict)  \n",
    "  \n",
    "print() \n",
    "    "
   ]
  },
  {
   "cell_type": "code",
   "execution_count": null,
   "metadata": {},
   "outputs": [],
   "source": []
  },
  {
   "cell_type": "code",
   "execution_count": null,
   "metadata": {},
   "outputs": [],
   "source": []
  }
 ],
 "metadata": {
  "kernelspec": {
   "display_name": "Python 3",
   "language": "python",
   "name": "python3"
  },
  "language_info": {
   "codemirror_mode": {
    "name": "ipython",
    "version": 3
   },
   "file_extension": ".py",
   "mimetype": "text/x-python",
   "name": "python",
   "nbconvert_exporter": "python",
   "pygments_lexer": "ipython3",
   "version": "3.7.6"
  }
 },
 "nbformat": 4,
 "nbformat_minor": 4
}
